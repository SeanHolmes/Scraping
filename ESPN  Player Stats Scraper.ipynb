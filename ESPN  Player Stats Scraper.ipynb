{
 "cells": [
  {
   "cell_type": "code",
   "execution_count": 159,
   "metadata": {
    "collapsed": false
   },
   "outputs": [],
   "source": [
    "import numpy as np\n",
    "import pandas as pd\n",
    "import requests\n",
    "from bs4 import BeautifulSoup\n",
    "from urllib2 import urlopen\n",
    "import re"
   ]
  },
  {
   "cell_type": "code",
   "execution_count": 160,
   "metadata": {
    "collapsed": false
   },
   "outputs": [],
   "source": [
    "#Retrieve team names, prefixes, and urls\n",
    "def get_teams(sport):\n",
    "    #Sport should be: 'nfl', 'nba', 'mlb'\n",
    "    baseUrl = 'http://espn.go.com/{0}/teams'\n",
    "    req = requests.get(baseUrl.format(sport))\n",
    "    \n",
    "    soup = BeautifulSoup(req.text, 'lxml')\n",
    "    tables = soup.find_all('ul', class_='medium-logos')\n",
    "    teams = []\n",
    "    prefix1 = []\n",
    "    prefix2 = []\n",
    "    teamUrls = []\n",
    "\n",
    "    for table in tables:\n",
    "        lis = table.find_all('li')\n",
    "        for li in lis:\n",
    "            info = li.h5.a\n",
    "            teams.append(info.text)\n",
    "            url = info['href']\n",
    "            teamUrls.append(url)\n",
    "            prefix1.append(url.split('/')[-2])\n",
    "            prefix2.append(url.split('/')[-1])\n",
    "    \n",
    "    dic = {'url' : teamUrls, 'prefix2' : prefix2, 'prefix1' : prefix1}\n",
    "    teamNames = pd.DataFrame(dic, index = teams)\n",
    "    teamNames.index.name = 'team'\n",
    "    \n",
    "    return teamNames"
   ]
  },
  {
   "cell_type": "code",
   "execution_count": 161,
   "metadata": {
    "collapsed": false
   },
   "outputs": [],
   "source": [
    "#Retrieves titles of statistics in table\n",
    "def get_titles(table):\n",
    "    titles = table[0].findAll('td')\n",
    "    titleNames = []\n",
    "    for title in titles:\n",
    "        titleNames.append(title.text)\n",
    "    return titleNames\n",
    "\n",
    "#Retrieve Stats present in table\n",
    "def get_playerStats(table, titles,team,sport):\n",
    "    totalStats = pd.DataFrame(columns=titles)\n",
    "    for row in table[1:-2]:\n",
    "        stats = row.findAll('td')\n",
    "        player = []\n",
    "        player.append(team)\n",
    "        if sport != 'nfl':\n",
    "            player.append(re.sub(r'[^\\x00-\\x7F]+','',\n",
    "                                 stats[0].text.split(',')[1]))\n",
    "        player.append(stats[0].text.split(',')[0])\n",
    "        for stat in stats[1:]:\n",
    "            player.append(stat.text)\n",
    "        totalStats = totalStats.append(pd.Series(player, index = titles), ignore_index=True)\n",
    "    return totalStats\n",
    "\n",
    "#Find stats for all teams\n",
    "def fill_Stats(teams, statType, sport):\n",
    "    #statType for NFL: 0=Passing, 1=Rushing, 2=Recieving\n",
    "    #statType for NFL: 0=Game, 1=Shooting\n",
    "    #statType for any other: 0=All\n",
    "    \n",
    "    BaseURL= 'http://espn.go.com/{0}/team/stats/_/name/{1}'\n",
    "    \n",
    "    #Sets titles of stats based on first teams's team page\n",
    "    html = urlopen(BaseURL.format(sport,teams['prefix1'][0]))\n",
    "    soup = BeautifulSoup(html, 'lxml')\n",
    "    table = soup.findAll('table')[statType].findAll('tr')[1:]\n",
    "    titles = get_titles(table)\n",
    "    if sport != 'nfl':\n",
    "        titles = ['POS'] + titles\n",
    "    titles = ['TEAM'] + titles\n",
    "    stats = pd.DataFrame(columns=titles)\n",
    "    \n",
    "    #Fills out stats table for each team\n",
    "    for team in teams['prefix1']:\n",
    "        html = urlopen(BaseURL.format(sport,team))\n",
    "        soup = BeautifulSoup(html, 'lxml')\n",
    "        table = soup.findAll('table')[statType].findAll('tr')[1:]\n",
    "        \n",
    "        stats = stats.append(get_playerStats(table,titles,team,sport), ignore_index=True)\n",
    "    \n",
    "    return stats"
   ]
  },
  {
   "cell_type": "code",
   "execution_count": 162,
   "metadata": {
    "collapsed": false
   },
   "outputs": [],
   "source": [
    "def update_sport(sport, tableNum):\n",
    "    teams = get_teams(sport)\n",
    "    stats = fill_Stats(teams, tableNum, sport)\n",
    "    \n",
    "    if sport == 'nfl':\n",
    "        dic = {0: 'Passing_stats', 1: 'Rushing_stats', 2: 'Recieving_stats'}\n",
    "        fileName = dic[tableNum]\n",
    "    elif sport == 'nba':\n",
    "        dic = {0: 'Game_stats', 1: 'Shooting_stats'}\n",
    "        fileName = dic[tableNum]\n",
    "    else:\n",
    "        fileName = 'Player_stats'\n",
    "        \n",
    "    BasePath = 'C:/Users/doc359/Documents/Sports/{0}/{1}.csv'\n",
    "    stats.to_csv(BasePath.format(sport, fileName))"
   ]
  },
  {
   "cell_type": "code",
   "execution_count": 163,
   "metadata": {
    "collapsed": false
   },
   "outputs": [],
   "source": [
    "update_sport('nfl',0)\n",
    "update_sport('nfl',1)\n",
    "update_sport('nfl',2)"
   ]
  },
  {
   "cell_type": "code",
   "execution_count": 164,
   "metadata": {
    "collapsed": false
   },
   "outputs": [],
   "source": [
    "update_sport('nba',0)\n",
    "update_sport('nba',1)\n",
    "update_sport('nhl',0)"
   ]
  },
  {
   "cell_type": "code",
   "execution_count": null,
   "metadata": {
    "collapsed": true
   },
   "outputs": [],
   "source": []
  }
 ],
 "metadata": {
  "kernelspec": {
   "display_name": "Python 2",
   "language": "python",
   "name": "python2"
  },
  "language_info": {
   "codemirror_mode": {
    "name": "ipython",
    "version": 2
   },
   "file_extension": ".py",
   "mimetype": "text/x-python",
   "name": "python",
   "nbconvert_exporter": "python",
   "pygments_lexer": "ipython2",
   "version": "2.7.11"
  }
 },
 "nbformat": 4,
 "nbformat_minor": 0
}
